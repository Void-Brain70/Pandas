{
  "nbformat": 4,
  "nbformat_minor": 0,
  "metadata": {
    "colab": {
      "name": "Concat.ipynb",
      "provenance": [],
      "collapsed_sections": [],
      "authorship_tag": "ABX9TyPXN66SI4/GRLqQm+LPqTw2",
      "include_colab_link": true
    },
    "kernelspec": {
      "name": "python3",
      "display_name": "Python 3"
    },
    "language_info": {
      "name": "python"
    }
  },
  "cells": [
    {
      "cell_type": "markdown",
      "metadata": {
        "id": "view-in-github",
        "colab_type": "text"
      },
      "source": [
        "<a href=\"https://colab.research.google.com/github/Void-Brain70/Pandas/blob/main/Concat.ipynb\" target=\"_parent\"><img src=\"https://colab.research.google.com/assets/colab-badge.svg\" alt=\"Open In Colab\"/></a>"
      ]
    },
    {
      "cell_type": "code",
      "metadata": {
        "colab": {
          "base_uri": "https://localhost:8080/",
          "height": 142
        },
        "id": "zKP5ROqiunLx",
        "outputId": "1cafaa69-a61d-486d-9116-0c38ad798910"
      },
      "source": [
        "import pandas as pd\n",
        "\n",
        "Barcelona = pd.DataFrame({\n",
        "    'Player Name':['Lionel Messi','Antoine Griezmann','Ousmane Dembélé'],\n",
        "    'Age':[33,29,23],\n",
        "    'Yearly Salary':['£52,000,000','£30,888,000','£11,024,000']\n",
        "})\n",
        "Barcelona"
      ],
      "execution_count": 30,
      "outputs": [
        {
          "output_type": "execute_result",
          "data": {
            "text/html": [
              "<div>\n",
              "<style scoped>\n",
              "    .dataframe tbody tr th:only-of-type {\n",
              "        vertical-align: middle;\n",
              "    }\n",
              "\n",
              "    .dataframe tbody tr th {\n",
              "        vertical-align: top;\n",
              "    }\n",
              "\n",
              "    .dataframe thead th {\n",
              "        text-align: right;\n",
              "    }\n",
              "</style>\n",
              "<table border=\"1\" class=\"dataframe\">\n",
              "  <thead>\n",
              "    <tr style=\"text-align: right;\">\n",
              "      <th></th>\n",
              "      <th>Player Name</th>\n",
              "      <th>Age</th>\n",
              "      <th>Yearly Salary</th>\n",
              "    </tr>\n",
              "  </thead>\n",
              "  <tbody>\n",
              "    <tr>\n",
              "      <th>0</th>\n",
              "      <td>Lionel Messi</td>\n",
              "      <td>33</td>\n",
              "      <td>£52,000,000</td>\n",
              "    </tr>\n",
              "    <tr>\n",
              "      <th>1</th>\n",
              "      <td>Antoine Griezmann</td>\n",
              "      <td>29</td>\n",
              "      <td>£30,888,000</td>\n",
              "    </tr>\n",
              "    <tr>\n",
              "      <th>2</th>\n",
              "      <td>Ousmane Dembélé</td>\n",
              "      <td>23</td>\n",
              "      <td>£11,024,000</td>\n",
              "    </tr>\n",
              "  </tbody>\n",
              "</table>\n",
              "</div>"
            ],
            "text/plain": [
              "         Player Name  Age Yearly Salary\n",
              "0       Lionel Messi   33   £52,000,000\n",
              "1  Antoine Griezmann   29   £30,888,000\n",
              "2    Ousmane Dembélé   23   £11,024,000"
            ]
          },
          "metadata": {
            "tags": []
          },
          "execution_count": 30
        }
      ]
    },
    {
      "cell_type": "code",
      "metadata": {
        "colab": {
          "base_uri": "https://localhost:8080/",
          "height": 142
        },
        "id": "Job8fHHSvjuU",
        "outputId": "3bc18f00-de92-4d91-b522-fa57b5c10648"
      },
      "source": [
        "import pandas as pd\n",
        "\n",
        "R_Madrid = pd.DataFrame({\n",
        "    'Player Name':['Eden Hazard','Sergio Ramos','Toni Kroos'],\n",
        "    'Age':[29,34,30],\n",
        "    'Yearly Salary':['£21,164,000','£17,576,000','£17,108,000']\n",
        "})\n",
        "R_Madrid"
      ],
      "execution_count": 4,
      "outputs": [
        {
          "output_type": "execute_result",
          "data": {
            "text/html": [
              "<div>\n",
              "<style scoped>\n",
              "    .dataframe tbody tr th:only-of-type {\n",
              "        vertical-align: middle;\n",
              "    }\n",
              "\n",
              "    .dataframe tbody tr th {\n",
              "        vertical-align: top;\n",
              "    }\n",
              "\n",
              "    .dataframe thead th {\n",
              "        text-align: right;\n",
              "    }\n",
              "</style>\n",
              "<table border=\"1\" class=\"dataframe\">\n",
              "  <thead>\n",
              "    <tr style=\"text-align: right;\">\n",
              "      <th></th>\n",
              "      <th>Player Name</th>\n",
              "      <th>Age</th>\n",
              "      <th>Yearly Salary</th>\n",
              "    </tr>\n",
              "  </thead>\n",
              "  <tbody>\n",
              "    <tr>\n",
              "      <th>0</th>\n",
              "      <td>Eden Hazard</td>\n",
              "      <td>29</td>\n",
              "      <td>£21,164,000</td>\n",
              "    </tr>\n",
              "    <tr>\n",
              "      <th>1</th>\n",
              "      <td>Sergio Ramos</td>\n",
              "      <td>34</td>\n",
              "      <td>£17,576,000</td>\n",
              "    </tr>\n",
              "    <tr>\n",
              "      <th>2</th>\n",
              "      <td>Toni Kroos</td>\n",
              "      <td>30</td>\n",
              "      <td>£17,108,000</td>\n",
              "    </tr>\n",
              "  </tbody>\n",
              "</table>\n",
              "</div>"
            ],
            "text/plain": [
              "    Player Name  Age Yearly Salary\n",
              "0   Eden Hazard   29   £21,164,000\n",
              "1  Sergio Ramos   34   £17,576,000\n",
              "2    Toni Kroos   30   £17,108,000"
            ]
          },
          "metadata": {
            "tags": []
          },
          "execution_count": 4
        }
      ]
    },
    {
      "cell_type": "code",
      "metadata": {
        "colab": {
          "base_uri": "https://localhost:8080/",
          "height": 234
        },
        "id": "5AxbacRKxxC8",
        "outputId": "61b23756-8693-4210-dbdc-ae9d6a6f9f0a"
      },
      "source": [
        "new_df = pd.concat([Barcelona,R_Madrid])\n",
        "new_df"
      ],
      "execution_count": 5,
      "outputs": [
        {
          "output_type": "execute_result",
          "data": {
            "text/html": [
              "<div>\n",
              "<style scoped>\n",
              "    .dataframe tbody tr th:only-of-type {\n",
              "        vertical-align: middle;\n",
              "    }\n",
              "\n",
              "    .dataframe tbody tr th {\n",
              "        vertical-align: top;\n",
              "    }\n",
              "\n",
              "    .dataframe thead th {\n",
              "        text-align: right;\n",
              "    }\n",
              "</style>\n",
              "<table border=\"1\" class=\"dataframe\">\n",
              "  <thead>\n",
              "    <tr style=\"text-align: right;\">\n",
              "      <th></th>\n",
              "      <th>Player Name</th>\n",
              "      <th>Age</th>\n",
              "      <th>Yearly Salary</th>\n",
              "    </tr>\n",
              "  </thead>\n",
              "  <tbody>\n",
              "    <tr>\n",
              "      <th>0</th>\n",
              "      <td>Lionel Messi</td>\n",
              "      <td>33</td>\n",
              "      <td>£52,000,000</td>\n",
              "    </tr>\n",
              "    <tr>\n",
              "      <th>1</th>\n",
              "      <td>Antoine Griezmann</td>\n",
              "      <td>29</td>\n",
              "      <td>£30,888,000</td>\n",
              "    </tr>\n",
              "    <tr>\n",
              "      <th>2</th>\n",
              "      <td>Ousmane Dembélé</td>\n",
              "      <td>23</td>\n",
              "      <td>£11,024,000</td>\n",
              "    </tr>\n",
              "    <tr>\n",
              "      <th>0</th>\n",
              "      <td>Eden Hazard</td>\n",
              "      <td>29</td>\n",
              "      <td>£21,164,000</td>\n",
              "    </tr>\n",
              "    <tr>\n",
              "      <th>1</th>\n",
              "      <td>Sergio Ramos</td>\n",
              "      <td>34</td>\n",
              "      <td>£17,576,000</td>\n",
              "    </tr>\n",
              "    <tr>\n",
              "      <th>2</th>\n",
              "      <td>Toni Kroos</td>\n",
              "      <td>30</td>\n",
              "      <td>£17,108,000</td>\n",
              "    </tr>\n",
              "  </tbody>\n",
              "</table>\n",
              "</div>"
            ],
            "text/plain": [
              "         Player Name  Age Yearly Salary\n",
              "0       Lionel Messi   33   £52,000,000\n",
              "1  Antoine Griezmann   29   £30,888,000\n",
              "2    Ousmane Dembélé   23   £11,024,000\n",
              "0        Eden Hazard   29   £21,164,000\n",
              "1       Sergio Ramos   34   £17,576,000\n",
              "2         Toni Kroos   30   £17,108,000"
            ]
          },
          "metadata": {
            "tags": []
          },
          "execution_count": 5
        }
      ]
    },
    {
      "cell_type": "code",
      "metadata": {
        "colab": {
          "base_uri": "https://localhost:8080/",
          "height": 234
        },
        "id": "gsgDMe33yHMU",
        "outputId": "146aedd1-07cb-4928-86da-b0e67c642b03"
      },
      "source": [
        "new_df = pd.concat([Barcelona,R_Madrid],ignore_index=True)\n",
        "new_df"
      ],
      "execution_count": 6,
      "outputs": [
        {
          "output_type": "execute_result",
          "data": {
            "text/html": [
              "<div>\n",
              "<style scoped>\n",
              "    .dataframe tbody tr th:only-of-type {\n",
              "        vertical-align: middle;\n",
              "    }\n",
              "\n",
              "    .dataframe tbody tr th {\n",
              "        vertical-align: top;\n",
              "    }\n",
              "\n",
              "    .dataframe thead th {\n",
              "        text-align: right;\n",
              "    }\n",
              "</style>\n",
              "<table border=\"1\" class=\"dataframe\">\n",
              "  <thead>\n",
              "    <tr style=\"text-align: right;\">\n",
              "      <th></th>\n",
              "      <th>Player Name</th>\n",
              "      <th>Age</th>\n",
              "      <th>Yearly Salary</th>\n",
              "    </tr>\n",
              "  </thead>\n",
              "  <tbody>\n",
              "    <tr>\n",
              "      <th>0</th>\n",
              "      <td>Lionel Messi</td>\n",
              "      <td>33</td>\n",
              "      <td>£52,000,000</td>\n",
              "    </tr>\n",
              "    <tr>\n",
              "      <th>1</th>\n",
              "      <td>Antoine Griezmann</td>\n",
              "      <td>29</td>\n",
              "      <td>£30,888,000</td>\n",
              "    </tr>\n",
              "    <tr>\n",
              "      <th>2</th>\n",
              "      <td>Ousmane Dembélé</td>\n",
              "      <td>23</td>\n",
              "      <td>£11,024,000</td>\n",
              "    </tr>\n",
              "    <tr>\n",
              "      <th>3</th>\n",
              "      <td>Eden Hazard</td>\n",
              "      <td>29</td>\n",
              "      <td>£21,164,000</td>\n",
              "    </tr>\n",
              "    <tr>\n",
              "      <th>4</th>\n",
              "      <td>Sergio Ramos</td>\n",
              "      <td>34</td>\n",
              "      <td>£17,576,000</td>\n",
              "    </tr>\n",
              "    <tr>\n",
              "      <th>5</th>\n",
              "      <td>Toni Kroos</td>\n",
              "      <td>30</td>\n",
              "      <td>£17,108,000</td>\n",
              "    </tr>\n",
              "  </tbody>\n",
              "</table>\n",
              "</div>"
            ],
            "text/plain": [
              "         Player Name  Age Yearly Salary\n",
              "0       Lionel Messi   33   £52,000,000\n",
              "1  Antoine Griezmann   29   £30,888,000\n",
              "2    Ousmane Dembélé   23   £11,024,000\n",
              "3        Eden Hazard   29   £21,164,000\n",
              "4       Sergio Ramos   34   £17,576,000\n",
              "5         Toni Kroos   30   £17,108,000"
            ]
          },
          "metadata": {
            "tags": []
          },
          "execution_count": 6
        }
      ]
    },
    {
      "cell_type": "code",
      "metadata": {
        "colab": {
          "base_uri": "https://localhost:8080/",
          "height": 234
        },
        "id": "TEqXEv_SyZwV",
        "outputId": "47c30712-5ce7-4b2b-9013-c54d21a4db9a"
      },
      "source": [
        "new_df = pd.concat([Barcelona,R_Madrid],keys=[\"Barca\",\"Real\"])\n",
        "new_df"
      ],
      "execution_count": 7,
      "outputs": [
        {
          "output_type": "execute_result",
          "data": {
            "text/html": [
              "<div>\n",
              "<style scoped>\n",
              "    .dataframe tbody tr th:only-of-type {\n",
              "        vertical-align: middle;\n",
              "    }\n",
              "\n",
              "    .dataframe tbody tr th {\n",
              "        vertical-align: top;\n",
              "    }\n",
              "\n",
              "    .dataframe thead th {\n",
              "        text-align: right;\n",
              "    }\n",
              "</style>\n",
              "<table border=\"1\" class=\"dataframe\">\n",
              "  <thead>\n",
              "    <tr style=\"text-align: right;\">\n",
              "      <th></th>\n",
              "      <th></th>\n",
              "      <th>Player Name</th>\n",
              "      <th>Age</th>\n",
              "      <th>Yearly Salary</th>\n",
              "    </tr>\n",
              "  </thead>\n",
              "  <tbody>\n",
              "    <tr>\n",
              "      <th rowspan=\"3\" valign=\"top\">Barca</th>\n",
              "      <th>0</th>\n",
              "      <td>Lionel Messi</td>\n",
              "      <td>33</td>\n",
              "      <td>£52,000,000</td>\n",
              "    </tr>\n",
              "    <tr>\n",
              "      <th>1</th>\n",
              "      <td>Antoine Griezmann</td>\n",
              "      <td>29</td>\n",
              "      <td>£30,888,000</td>\n",
              "    </tr>\n",
              "    <tr>\n",
              "      <th>2</th>\n",
              "      <td>Ousmane Dembélé</td>\n",
              "      <td>23</td>\n",
              "      <td>£11,024,000</td>\n",
              "    </tr>\n",
              "    <tr>\n",
              "      <th rowspan=\"3\" valign=\"top\">Real</th>\n",
              "      <th>0</th>\n",
              "      <td>Eden Hazard</td>\n",
              "      <td>29</td>\n",
              "      <td>£21,164,000</td>\n",
              "    </tr>\n",
              "    <tr>\n",
              "      <th>1</th>\n",
              "      <td>Sergio Ramos</td>\n",
              "      <td>34</td>\n",
              "      <td>£17,576,000</td>\n",
              "    </tr>\n",
              "    <tr>\n",
              "      <th>2</th>\n",
              "      <td>Toni Kroos</td>\n",
              "      <td>30</td>\n",
              "      <td>£17,108,000</td>\n",
              "    </tr>\n",
              "  </tbody>\n",
              "</table>\n",
              "</div>"
            ],
            "text/plain": [
              "               Player Name  Age Yearly Salary\n",
              "Barca 0       Lionel Messi   33   £52,000,000\n",
              "      1  Antoine Griezmann   29   £30,888,000\n",
              "      2    Ousmane Dembélé   23   £11,024,000\n",
              "Real  0        Eden Hazard   29   £21,164,000\n",
              "      1       Sergio Ramos   34   £17,576,000\n",
              "      2         Toni Kroos   30   £17,108,000"
            ]
          },
          "metadata": {
            "tags": []
          },
          "execution_count": 7
        }
      ]
    },
    {
      "cell_type": "code",
      "metadata": {
        "colab": {
          "base_uri": "https://localhost:8080/",
          "height": 142
        },
        "id": "bBN8h_A_yqi0",
        "outputId": "771e76b9-d5d0-4fcc-ca44-8f89719fbcf2"
      },
      "source": [
        "new_df.loc['Barca']"
      ],
      "execution_count": 9,
      "outputs": [
        {
          "output_type": "execute_result",
          "data": {
            "text/html": [
              "<div>\n",
              "<style scoped>\n",
              "    .dataframe tbody tr th:only-of-type {\n",
              "        vertical-align: middle;\n",
              "    }\n",
              "\n",
              "    .dataframe tbody tr th {\n",
              "        vertical-align: top;\n",
              "    }\n",
              "\n",
              "    .dataframe thead th {\n",
              "        text-align: right;\n",
              "    }\n",
              "</style>\n",
              "<table border=\"1\" class=\"dataframe\">\n",
              "  <thead>\n",
              "    <tr style=\"text-align: right;\">\n",
              "      <th></th>\n",
              "      <th>Player Name</th>\n",
              "      <th>Age</th>\n",
              "      <th>Yearly Salary</th>\n",
              "    </tr>\n",
              "  </thead>\n",
              "  <tbody>\n",
              "    <tr>\n",
              "      <th>0</th>\n",
              "      <td>Lionel Messi</td>\n",
              "      <td>33</td>\n",
              "      <td>£52,000,000</td>\n",
              "    </tr>\n",
              "    <tr>\n",
              "      <th>1</th>\n",
              "      <td>Antoine Griezmann</td>\n",
              "      <td>29</td>\n",
              "      <td>£30,888,000</td>\n",
              "    </tr>\n",
              "    <tr>\n",
              "      <th>2</th>\n",
              "      <td>Ousmane Dembélé</td>\n",
              "      <td>23</td>\n",
              "      <td>£11,024,000</td>\n",
              "    </tr>\n",
              "  </tbody>\n",
              "</table>\n",
              "</div>"
            ],
            "text/plain": [
              "         Player Name  Age Yearly Salary\n",
              "0       Lionel Messi   33   £52,000,000\n",
              "1  Antoine Griezmann   29   £30,888,000\n",
              "2    Ousmane Dembélé   23   £11,024,000"
            ]
          },
          "metadata": {
            "tags": []
          },
          "execution_count": 9
        }
      ]
    },
    {
      "cell_type": "code",
      "metadata": {
        "colab": {
          "base_uri": "https://localhost:8080/",
          "height": 142
        },
        "id": "NDqbeYfGy3t9",
        "outputId": "871ba047-1ae2-4fa2-ad2b-34ef20317b72"
      },
      "source": [
        "new_df.loc['Real']"
      ],
      "execution_count": 10,
      "outputs": [
        {
          "output_type": "execute_result",
          "data": {
            "text/html": [
              "<div>\n",
              "<style scoped>\n",
              "    .dataframe tbody tr th:only-of-type {\n",
              "        vertical-align: middle;\n",
              "    }\n",
              "\n",
              "    .dataframe tbody tr th {\n",
              "        vertical-align: top;\n",
              "    }\n",
              "\n",
              "    .dataframe thead th {\n",
              "        text-align: right;\n",
              "    }\n",
              "</style>\n",
              "<table border=\"1\" class=\"dataframe\">\n",
              "  <thead>\n",
              "    <tr style=\"text-align: right;\">\n",
              "      <th></th>\n",
              "      <th>Player Name</th>\n",
              "      <th>Age</th>\n",
              "      <th>Yearly Salary</th>\n",
              "    </tr>\n",
              "  </thead>\n",
              "  <tbody>\n",
              "    <tr>\n",
              "      <th>0</th>\n",
              "      <td>Eden Hazard</td>\n",
              "      <td>29</td>\n",
              "      <td>£21,164,000</td>\n",
              "    </tr>\n",
              "    <tr>\n",
              "      <th>1</th>\n",
              "      <td>Sergio Ramos</td>\n",
              "      <td>34</td>\n",
              "      <td>£17,576,000</td>\n",
              "    </tr>\n",
              "    <tr>\n",
              "      <th>2</th>\n",
              "      <td>Toni Kroos</td>\n",
              "      <td>30</td>\n",
              "      <td>£17,108,000</td>\n",
              "    </tr>\n",
              "  </tbody>\n",
              "</table>\n",
              "</div>"
            ],
            "text/plain": [
              "    Player Name  Age Yearly Salary\n",
              "0   Eden Hazard   29   £21,164,000\n",
              "1  Sergio Ramos   34   £17,576,000\n",
              "2    Toni Kroos   30   £17,108,000"
            ]
          },
          "metadata": {
            "tags": []
          },
          "execution_count": 10
        }
      ]
    },
    {
      "cell_type": "code",
      "metadata": {
        "colab": {
          "base_uri": "https://localhost:8080/",
          "height": 142
        },
        "id": "7kV4r45Oy7jt",
        "outputId": "7a085219-0846-432c-cd13-05aec4e2f9c1"
      },
      "source": [
        "import pandas as pd\n",
        "Barcelona = pd.DataFrame({\n",
        "    'Player Name':['Lionel Messi','Antoine Griezmann','Ousmane Dembélé'],\n",
        "    'Yearly Salary':['£52,000,000','£30,888,000','£11,024,000']\n",
        "})\n",
        "Barcelona"
      ],
      "execution_count": 21,
      "outputs": [
        {
          "output_type": "execute_result",
          "data": {
            "text/html": [
              "<div>\n",
              "<style scoped>\n",
              "    .dataframe tbody tr th:only-of-type {\n",
              "        vertical-align: middle;\n",
              "    }\n",
              "\n",
              "    .dataframe tbody tr th {\n",
              "        vertical-align: top;\n",
              "    }\n",
              "\n",
              "    .dataframe thead th {\n",
              "        text-align: right;\n",
              "    }\n",
              "</style>\n",
              "<table border=\"1\" class=\"dataframe\">\n",
              "  <thead>\n",
              "    <tr style=\"text-align: right;\">\n",
              "      <th></th>\n",
              "      <th>Player Name</th>\n",
              "      <th>Yearly Salary</th>\n",
              "    </tr>\n",
              "  </thead>\n",
              "  <tbody>\n",
              "    <tr>\n",
              "      <th>0</th>\n",
              "      <td>Lionel Messi</td>\n",
              "      <td>£52,000,000</td>\n",
              "    </tr>\n",
              "    <tr>\n",
              "      <th>1</th>\n",
              "      <td>Antoine Griezmann</td>\n",
              "      <td>£30,888,000</td>\n",
              "    </tr>\n",
              "    <tr>\n",
              "      <th>2</th>\n",
              "      <td>Ousmane Dembélé</td>\n",
              "      <td>£11,024,000</td>\n",
              "    </tr>\n",
              "  </tbody>\n",
              "</table>\n",
              "</div>"
            ],
            "text/plain": [
              "         Player Name Yearly Salary\n",
              "0       Lionel Messi   £52,000,000\n",
              "1  Antoine Griezmann   £30,888,000\n",
              "2    Ousmane Dembélé   £11,024,000"
            ]
          },
          "metadata": {
            "tags": []
          },
          "execution_count": 21
        }
      ]
    },
    {
      "cell_type": "code",
      "metadata": {
        "colab": {
          "base_uri": "https://localhost:8080/",
          "height": 142
        },
        "id": "z2PLvHLSzRk-",
        "outputId": "cd78c0ba-363e-417d-dd9a-442b8a992511"
      },
      "source": [
        "import pandas as pd\n",
        "R_Madrid = pd.DataFrame({\n",
        "    'Player Name':['Eden Hazard','Sergio Ramos','Toni Kroos'],\n",
        "    'Age':[29,34,30]\n",
        "})\n",
        "R_Madrid"
      ],
      "execution_count": 27,
      "outputs": [
        {
          "output_type": "execute_result",
          "data": {
            "text/html": [
              "<div>\n",
              "<style scoped>\n",
              "    .dataframe tbody tr th:only-of-type {\n",
              "        vertical-align: middle;\n",
              "    }\n",
              "\n",
              "    .dataframe tbody tr th {\n",
              "        vertical-align: top;\n",
              "    }\n",
              "\n",
              "    .dataframe thead th {\n",
              "        text-align: right;\n",
              "    }\n",
              "</style>\n",
              "<table border=\"1\" class=\"dataframe\">\n",
              "  <thead>\n",
              "    <tr style=\"text-align: right;\">\n",
              "      <th></th>\n",
              "      <th>Player Name</th>\n",
              "      <th>Age</th>\n",
              "    </tr>\n",
              "  </thead>\n",
              "  <tbody>\n",
              "    <tr>\n",
              "      <th>0</th>\n",
              "      <td>Eden Hazard</td>\n",
              "      <td>29</td>\n",
              "    </tr>\n",
              "    <tr>\n",
              "      <th>1</th>\n",
              "      <td>Sergio Ramos</td>\n",
              "      <td>34</td>\n",
              "    </tr>\n",
              "    <tr>\n",
              "      <th>2</th>\n",
              "      <td>Toni Kroos</td>\n",
              "      <td>30</td>\n",
              "    </tr>\n",
              "  </tbody>\n",
              "</table>\n",
              "</div>"
            ],
            "text/plain": [
              "    Player Name  Age\n",
              "0   Eden Hazard   29\n",
              "1  Sergio Ramos   34\n",
              "2    Toni Kroos   30"
            ]
          },
          "metadata": {
            "tags": []
          },
          "execution_count": 27
        }
      ]
    },
    {
      "cell_type": "code",
      "metadata": {
        "colab": {
          "base_uri": "https://localhost:8080/",
          "height": 234
        },
        "id": "sRZbDgDNznTF",
        "outputId": "9b5a82a5-0a8a-432e-840b-6b9d2423b4f8"
      },
      "source": [
        "new_df = pd.concat([Barcelona,R_Madrid])\n",
        "new_df"
      ],
      "execution_count": 28,
      "outputs": [
        {
          "output_type": "execute_result",
          "data": {
            "text/html": [
              "<div>\n",
              "<style scoped>\n",
              "    .dataframe tbody tr th:only-of-type {\n",
              "        vertical-align: middle;\n",
              "    }\n",
              "\n",
              "    .dataframe tbody tr th {\n",
              "        vertical-align: top;\n",
              "    }\n",
              "\n",
              "    .dataframe thead th {\n",
              "        text-align: right;\n",
              "    }\n",
              "</style>\n",
              "<table border=\"1\" class=\"dataframe\">\n",
              "  <thead>\n",
              "    <tr style=\"text-align: right;\">\n",
              "      <th></th>\n",
              "      <th>Player Name</th>\n",
              "      <th>Yearly Salary</th>\n",
              "      <th>Age</th>\n",
              "    </tr>\n",
              "  </thead>\n",
              "  <tbody>\n",
              "    <tr>\n",
              "      <th>0</th>\n",
              "      <td>Lionel Messi</td>\n",
              "      <td>£52,000,000</td>\n",
              "      <td>NaN</td>\n",
              "    </tr>\n",
              "    <tr>\n",
              "      <th>1</th>\n",
              "      <td>Antoine Griezmann</td>\n",
              "      <td>£30,888,000</td>\n",
              "      <td>NaN</td>\n",
              "    </tr>\n",
              "    <tr>\n",
              "      <th>2</th>\n",
              "      <td>Ousmane Dembélé</td>\n",
              "      <td>£11,024,000</td>\n",
              "      <td>NaN</td>\n",
              "    </tr>\n",
              "    <tr>\n",
              "      <th>0</th>\n",
              "      <td>Eden Hazard</td>\n",
              "      <td>NaN</td>\n",
              "      <td>29.0</td>\n",
              "    </tr>\n",
              "    <tr>\n",
              "      <th>1</th>\n",
              "      <td>Sergio Ramos</td>\n",
              "      <td>NaN</td>\n",
              "      <td>34.0</td>\n",
              "    </tr>\n",
              "    <tr>\n",
              "      <th>2</th>\n",
              "      <td>Toni Kroos</td>\n",
              "      <td>NaN</td>\n",
              "      <td>30.0</td>\n",
              "    </tr>\n",
              "  </tbody>\n",
              "</table>\n",
              "</div>"
            ],
            "text/plain": [
              "         Player Name Yearly Salary   Age\n",
              "0       Lionel Messi   £52,000,000   NaN\n",
              "1  Antoine Griezmann   £30,888,000   NaN\n",
              "2    Ousmane Dembélé   £11,024,000   NaN\n",
              "0        Eden Hazard           NaN  29.0\n",
              "1       Sergio Ramos           NaN  34.0\n",
              "2         Toni Kroos           NaN  30.0"
            ]
          },
          "metadata": {
            "tags": []
          },
          "execution_count": 28
        }
      ]
    },
    {
      "cell_type": "code",
      "metadata": {
        "colab": {
          "base_uri": "https://localhost:8080/",
          "height": 142
        },
        "id": "KIQl7QHk1LOt",
        "outputId": "42b55a15-62fe-4649-c302-305330d3f8ce"
      },
      "source": [
        "new_df = pd.concat([Barcelona,R_Madrid],axis=1)\n",
        "new_df"
      ],
      "execution_count": 29,
      "outputs": [
        {
          "output_type": "execute_result",
          "data": {
            "text/html": [
              "<div>\n",
              "<style scoped>\n",
              "    .dataframe tbody tr th:only-of-type {\n",
              "        vertical-align: middle;\n",
              "    }\n",
              "\n",
              "    .dataframe tbody tr th {\n",
              "        vertical-align: top;\n",
              "    }\n",
              "\n",
              "    .dataframe thead th {\n",
              "        text-align: right;\n",
              "    }\n",
              "</style>\n",
              "<table border=\"1\" class=\"dataframe\">\n",
              "  <thead>\n",
              "    <tr style=\"text-align: right;\">\n",
              "      <th></th>\n",
              "      <th>Player Name</th>\n",
              "      <th>Yearly Salary</th>\n",
              "      <th>Player Name</th>\n",
              "      <th>Age</th>\n",
              "    </tr>\n",
              "  </thead>\n",
              "  <tbody>\n",
              "    <tr>\n",
              "      <th>0</th>\n",
              "      <td>Lionel Messi</td>\n",
              "      <td>£52,000,000</td>\n",
              "      <td>Eden Hazard</td>\n",
              "      <td>29</td>\n",
              "    </tr>\n",
              "    <tr>\n",
              "      <th>1</th>\n",
              "      <td>Antoine Griezmann</td>\n",
              "      <td>£30,888,000</td>\n",
              "      <td>Sergio Ramos</td>\n",
              "      <td>34</td>\n",
              "    </tr>\n",
              "    <tr>\n",
              "      <th>2</th>\n",
              "      <td>Ousmane Dembélé</td>\n",
              "      <td>£11,024,000</td>\n",
              "      <td>Toni Kroos</td>\n",
              "      <td>30</td>\n",
              "    </tr>\n",
              "  </tbody>\n",
              "</table>\n",
              "</div>"
            ],
            "text/plain": [
              "         Player Name Yearly Salary   Player Name  Age\n",
              "0       Lionel Messi   £52,000,000   Eden Hazard   29\n",
              "1  Antoine Griezmann   £30,888,000  Sergio Ramos   34\n",
              "2    Ousmane Dembélé   £11,024,000    Toni Kroos   30"
            ]
          },
          "metadata": {
            "tags": []
          },
          "execution_count": 29
        }
      ]
    },
    {
      "cell_type": "code",
      "metadata": {
        "colab": {
          "base_uri": "https://localhost:8080/",
          "height": 142
        },
        "id": "jqyYZqRM1vt_",
        "outputId": "e24d267a-e001-4367-8622-a529763be105"
      },
      "source": [
        "import pandas as pd\n",
        "\n",
        "Barcelona = pd.DataFrame({\n",
        "    'Player Name':['Lionel Messi','Antoine Griezmann','Ousmane Dembélé'],\n",
        "    'Age':[33,29,23],\n",
        "    'Yearly Salary':['£52,000,000','£30,888,000','£11,024,000']\n",
        "})\n",
        "Barcelona"
      ],
      "execution_count": 31,
      "outputs": [
        {
          "output_type": "execute_result",
          "data": {
            "text/html": [
              "<div>\n",
              "<style scoped>\n",
              "    .dataframe tbody tr th:only-of-type {\n",
              "        vertical-align: middle;\n",
              "    }\n",
              "\n",
              "    .dataframe tbody tr th {\n",
              "        vertical-align: top;\n",
              "    }\n",
              "\n",
              "    .dataframe thead th {\n",
              "        text-align: right;\n",
              "    }\n",
              "</style>\n",
              "<table border=\"1\" class=\"dataframe\">\n",
              "  <thead>\n",
              "    <tr style=\"text-align: right;\">\n",
              "      <th></th>\n",
              "      <th>Player Name</th>\n",
              "      <th>Age</th>\n",
              "      <th>Yearly Salary</th>\n",
              "    </tr>\n",
              "  </thead>\n",
              "  <tbody>\n",
              "    <tr>\n",
              "      <th>0</th>\n",
              "      <td>Lionel Messi</td>\n",
              "      <td>33</td>\n",
              "      <td>£52,000,000</td>\n",
              "    </tr>\n",
              "    <tr>\n",
              "      <th>1</th>\n",
              "      <td>Antoine Griezmann</td>\n",
              "      <td>29</td>\n",
              "      <td>£30,888,000</td>\n",
              "    </tr>\n",
              "    <tr>\n",
              "      <th>2</th>\n",
              "      <td>Ousmane Dembélé</td>\n",
              "      <td>23</td>\n",
              "      <td>£11,024,000</td>\n",
              "    </tr>\n",
              "  </tbody>\n",
              "</table>\n",
              "</div>"
            ],
            "text/plain": [
              "         Player Name  Age Yearly Salary\n",
              "0       Lionel Messi   33   £52,000,000\n",
              "1  Antoine Griezmann   29   £30,888,000\n",
              "2    Ousmane Dembélé   23   £11,024,000"
            ]
          },
          "metadata": {
            "tags": []
          },
          "execution_count": 31
        }
      ]
    },
    {
      "cell_type": "code",
      "metadata": {
        "colab": {
          "base_uri": "https://localhost:8080/"
        },
        "id": "IBQSnC101w_2",
        "outputId": "1bb5478a-666c-47a8-f314-2ed278b36dfd"
      },
      "source": [
        "s = pd.Series(['Argentina','France','France'],name=\"Nationality\")\n",
        "s"
      ],
      "execution_count": 33,
      "outputs": [
        {
          "output_type": "execute_result",
          "data": {
            "text/plain": [
              "0    Argentina\n",
              "1       France\n",
              "2       France\n",
              "Name: Nationality, dtype: object"
            ]
          },
          "metadata": {
            "tags": []
          },
          "execution_count": 33
        }
      ]
    },
    {
      "cell_type": "code",
      "metadata": {
        "colab": {
          "base_uri": "https://localhost:8080/",
          "height": 142
        },
        "id": "Kt4qkeqq2OLu",
        "outputId": "63ced92c-79b2-4e44-d388-f2391a432f47"
      },
      "source": [
        "df = pd.concat([Barcelona,s],axis=1)\n",
        "df"
      ],
      "execution_count": 34,
      "outputs": [
        {
          "output_type": "execute_result",
          "data": {
            "text/html": [
              "<div>\n",
              "<style scoped>\n",
              "    .dataframe tbody tr th:only-of-type {\n",
              "        vertical-align: middle;\n",
              "    }\n",
              "\n",
              "    .dataframe tbody tr th {\n",
              "        vertical-align: top;\n",
              "    }\n",
              "\n",
              "    .dataframe thead th {\n",
              "        text-align: right;\n",
              "    }\n",
              "</style>\n",
              "<table border=\"1\" class=\"dataframe\">\n",
              "  <thead>\n",
              "    <tr style=\"text-align: right;\">\n",
              "      <th></th>\n",
              "      <th>Player Name</th>\n",
              "      <th>Age</th>\n",
              "      <th>Yearly Salary</th>\n",
              "      <th>Nationality</th>\n",
              "    </tr>\n",
              "  </thead>\n",
              "  <tbody>\n",
              "    <tr>\n",
              "      <th>0</th>\n",
              "      <td>Lionel Messi</td>\n",
              "      <td>33</td>\n",
              "      <td>£52,000,000</td>\n",
              "      <td>Argentina</td>\n",
              "    </tr>\n",
              "    <tr>\n",
              "      <th>1</th>\n",
              "      <td>Antoine Griezmann</td>\n",
              "      <td>29</td>\n",
              "      <td>£30,888,000</td>\n",
              "      <td>France</td>\n",
              "    </tr>\n",
              "    <tr>\n",
              "      <th>2</th>\n",
              "      <td>Ousmane Dembélé</td>\n",
              "      <td>23</td>\n",
              "      <td>£11,024,000</td>\n",
              "      <td>France</td>\n",
              "    </tr>\n",
              "  </tbody>\n",
              "</table>\n",
              "</div>"
            ],
            "text/plain": [
              "         Player Name  Age Yearly Salary Nationality\n",
              "0       Lionel Messi   33   £52,000,000   Argentina\n",
              "1  Antoine Griezmann   29   £30,888,000      France\n",
              "2    Ousmane Dembélé   23   £11,024,000      France"
            ]
          },
          "metadata": {
            "tags": []
          },
          "execution_count": 34
        }
      ]
    }
  ]
}